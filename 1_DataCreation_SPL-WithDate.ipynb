{
 "cells": [
  {
   "cell_type": "code",
   "execution_count": null,
   "metadata": {},
   "outputs": [],
   "source": [
    "import pandas as pd\n",
    "import numpy as np\n",
    "import csv\n",
    "from datetime import datetime\n",
    "from pathlib import Path "
   ]
  },
  {
   "cell_type": "code",
   "execution_count": null,
   "metadata": {},
   "outputs": [],
   "source": [
    "# Change the value of fileLoc to match where you saved the file.\n",
    "fileLoc = \"C:/Users/Elissa/Documents/DSMS/Capstone_SPL/Data/RawData/FULL_Checkouts_By_Title__Physical_Items_.csv\""
   ]
  },
  {
   "cell_type": "code",
   "execution_count": null,
   "metadata": {},
   "outputs": [],
   "source": [
    "with open(fileLoc) as ckobpi_file:\n",
    "    \n",
    "    header = ckobpi_file.readline()\n",
    "    print(header)\n",
    "        \n",
    "    \n",
    "    date_dict = {}\n",
    "    itemType_dict = {}\n",
    "    sub_dict = {}\n",
    "\n",
    "    \n",
    "    line_num=1\n",
    "    twenty19_21_num = 0\n",
    "    \n",
    "\n",
    "    while line_num < 120000000:\n",
    "        \n",
    "        # declare variables\n",
    "        sub_dict = {}\n",
    "        \n",
    "        # We use readline() to read in the next line / title\n",
    "        try:\n",
    "            cko_item = ckobpi_file.readline()\n",
    "        except:\n",
    "            continue\n",
    "\n",
    "        #break out of the loop if we hit the end of the file\n",
    "        if not cko_item:\n",
    "            break\n",
    "\n",
    "        cko_item_list = cko_item.split(\",\")\n",
    "        \n",
    "        try:\n",
    "            if cko_item_list[1] == \"2018\" or cko_item_list[1] == \"2019\" or cko_item_list[1] == \"2020\" or cko_item_list[1] == \"2021\" :\n",
    "\n",
    "                twenty19_21_num += 1\n",
    "                \n",
    "                itemType = cko_item_list[4]\n",
    "\n",
    "                try:\n",
    "                    cko_date, cko_time, cko_ampm = cko_item_list[-1].split(\" \")\n",
    "                except:\n",
    "                    continue\n",
    "\n",
    "\n",
    "                try:\n",
    "                    cko_mo, cko_daynum, cko_year = cko_date.split(\"/\")\n",
    "                except:\n",
    "                    continue\n",
    "                    \n",
    "\n",
    "                if(cko_date in date_dict):  #if date in dictionary add count\n",
    "                    date_dict[cko_date] = date_dict[cko_date]+1\n",
    "                else:\n",
    "                    date_dict[cko_date]= 1\n",
    "\n",
    "                \n",
    "                if cko_date in itemType_dict:  #if date in dictionary check itemType AND increment \n",
    "                    if itemType in itemType_dict[cko_date]:\n",
    "\n",
    "                        itemType_dict[cko_date][itemType] = itemType_dict[cko_date][itemType] +1\n",
    "                    else:\n",
    "                        sub_dict[itemType] = 1\n",
    "                        #print(sub_dict)\n",
    "                        itemType_dict[cko_date][itemType] = 1\n",
    "                else:\n",
    "                    sub_dict[itemType] = 1\n",
    "                    itemType_dict[cko_date] = sub_dict      \n",
    "                \n",
    "                \n",
    "\n",
    "        except:\n",
    "            continue\n",
    "            \n",
    "        \n",
    "            \n",
    "\n",
    "\n",
    "        line_num += 1\n",
    "\n",
    "        if line_num % 5000000 == 0:\n",
    "            print(line_num, twenty19_21_num)\n",
    "            \n",
    "    print(\"Done: \", line_num)\n"
   ]
  },
  {
   "cell_type": "code",
   "execution_count": null,
   "metadata": {},
   "outputs": [],
   "source": [
    "dateCirc_df = pd.DataFrame.from_dict(date_dict, orient='index')\n",
    "dateCirc_df.columns =['totCirc']\n",
    "dateCirc_df.index.name = 'date'\n",
    "dateCirc_df.reset_index(inplace=True)\n",
    "\n",
    "typeCirc_df = pd.DataFrame.from_dict(itemType_dict, orient='index')\n",
    "typeCirc_df.index.name = 'date'\n",
    "typeCirc_df.reset_index(inplace=True)"
   ]
  },
  {
   "cell_type": "code",
   "execution_count": null,
   "metadata": {},
   "outputs": [],
   "source": [
    "dateCirc_df.head()"
   ]
  },
  {
   "cell_type": "code",
   "execution_count": null,
   "metadata": {},
   "outputs": [],
   "source": [
    "typeCirc_df.head()"
   ]
  },
  {
   "cell_type": "code",
   "execution_count": null,
   "metadata": {},
   "outputs": [],
   "source": [
    "# write individual file\n",
    "filepath = Path('C:/Users/Elissa/Documents/DSMS/Capstone_SPL/Data/dateCirc_df.csv')  \n",
    "filepath.parent.mkdir(parents=True, exist_ok=True)  \n",
    "dateCirc_df.to_csv(filepath,index=True) "
   ]
  },
  {
   "cell_type": "code",
   "execution_count": null,
   "metadata": {},
   "outputs": [],
   "source": [
    "# write individual file\n",
    "filepath = Path('C:/Users/Elissa/Documents/DSMS/Capstone_SPL/Data/typeCirc_df.csv')  \n",
    "filepath.parent.mkdir(parents=True, exist_ok=True)  \n",
    "typeCirc_df.to_csv(filepath,index=True) "
   ]
  },
  {
   "cell_type": "code",
   "execution_count": null,
   "metadata": {},
   "outputs": [],
   "source": [
    "# join data frames\n",
    "allCirc_df = pd.merge(dateCirc_df, typeCirc_df, how=\"outer\", on=\"date\")"
   ]
  },
  {
   "cell_type": "code",
   "execution_count": null,
   "metadata": {},
   "outputs": [],
   "source": [
    "allCirc_df.head()"
   ]
  },
  {
   "cell_type": "code",
   "execution_count": null,
   "metadata": {},
   "outputs": [],
   "source": [
    "# create list of dates as strings, and lists weekday as 1-7 where 1 is Monday\n",
    "datelist = []\n",
    "daylist = []\n",
    "\n",
    "daterange = pd.date_range(start=\"2018-01-01\",end=\"2021-12-31\")\n",
    "\n",
    "for x in range(len(daterange)):\n",
    "    datelist.append(daterange.date[x].strftime(\"%m/%d/%Y\"))\n",
    "    daylist.append(daterange.date[x].isoweekday())"
   ]
  },
  {
   "cell_type": "code",
   "execution_count": null,
   "metadata": {},
   "outputs": [],
   "source": [
    "data = {'date':datelist, 'dayOfWeek':daylist}\n",
    "weekDay_df = pd.DataFrame(data)"
   ]
  },
  {
   "cell_type": "code",
   "execution_count": null,
   "metadata": {},
   "outputs": [],
   "source": [
    "weekDay_df.loc[weekDay_df['dayOfWeek']==1,'nameOfDay'] = 'Monday'\n",
    "weekDay_df.loc[weekDay_df['dayOfWeek']==2,'nameOfDay'] = 'Tuesday'\n",
    "weekDay_df.loc[weekDay_df['dayOfWeek']==3,'nameOfDay'] = 'Wednesday'\n",
    "weekDay_df.loc[weekDay_df['dayOfWeek']==4,'nameOfDay'] = 'Thursday'\n",
    "weekDay_df.loc[weekDay_df['dayOfWeek']==5,'nameOfDay'] = 'Friday'\n",
    "weekDay_df.loc[weekDay_df['dayOfWeek']==6,'nameOfDay'] = 'Saturday'\n",
    "weekDay_df.loc[weekDay_df['dayOfWeek']==7,'nameOfDay'] = 'Sunday'"
   ]
  },
  {
   "cell_type": "code",
   "execution_count": null,
   "metadata": {},
   "outputs": [],
   "source": [
    "weekDay_df.head()"
   ]
  },
  {
   "cell_type": "code",
   "execution_count": null,
   "metadata": {},
   "outputs": [],
   "source": [
    "allCircDOW_df = pd.merge(allCirc_df, weekDay_df, how=\"outer\", on=\"date\")"
   ]
  },
  {
   "cell_type": "code",
   "execution_count": null,
   "metadata": {
    "scrolled": true
   },
   "outputs": [],
   "source": [
    "allCircDOW_df.head()"
   ]
  },
  {
   "cell_type": "code",
   "execution_count": null,
   "metadata": {},
   "outputs": [],
   "source": [
    "#write to file\n",
    "\n",
    "# write individual file\n",
    "filepath = Path('C:/Users/Elissa/Documents/DSMS/Capstone_SPL/Data/allCircDOW_18-21_df.csv')  \n",
    "filepath.parent.mkdir(parents=True, exist_ok=True)  \n",
    "allCircDOW_df.to_csv(filepath,index=True) "
   ]
  }
 ],
 "metadata": {
  "kernelspec": {
   "display_name": "Python 3",
   "language": "python",
   "name": "python3"
  },
  "language_info": {
   "codemirror_mode": {
    "name": "ipython",
    "version": 3
   },
   "file_extension": ".py",
   "mimetype": "text/x-python",
   "name": "python",
   "nbconvert_exporter": "python",
   "pygments_lexer": "ipython3",
   "version": "3.6.5"
  }
 },
 "nbformat": 4,
 "nbformat_minor": 2
}
